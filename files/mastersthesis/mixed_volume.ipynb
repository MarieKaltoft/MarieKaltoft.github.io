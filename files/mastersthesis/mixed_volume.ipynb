{
 "cells": [
  {
   "cell_type": "markdown",
   "metadata": {},
   "source": [
    "# Calculating mixed volume"
   ]
  },
  {
   "cell_type": "markdown",
   "metadata": {},
   "source": [
    "Tested using Julia 1.9.4 with the packages Oscar 1.0.5."
   ]
  },
  {
   "cell_type": "markdown",
   "metadata": {},
   "source": [
    "## Setup"
   ]
  },
  {
   "cell_type": "code",
   "execution_count": 1,
   "metadata": {},
   "outputs": [],
   "source": [
    "using Oscar\n",
    "import Combinatorics: powerset"
   ]
  },
  {
   "cell_type": "code",
   "execution_count": 7,
   "metadata": {},
   "outputs": [],
   "source": [
    "# From Applied Algebra and Geometry course 2023/2024 (code in this block written by Oskar Henriksson)\n",
    "function my_mixed_volume(list_of_polytopes)\n",
    "    n = length(list_of_polytopes)\n",
    "    return sum(\n",
    "        [\n",
    "            (-1)^(n-length(I))*volume(sum(\n",
    "                list_of_polytopes[I]\n",
    "            )) \n",
    "            for I in powerset(collect(1:n)) if !isempty(I)\n",
    "        ]\n",
    "    )\n",
    "end;"
   ]
  },
  {
   "cell_type": "markdown",
   "metadata": {},
   "source": [
    "## Examples"
   ]
  },
  {
   "cell_type": "code",
   "execution_count": 10,
   "metadata": {},
   "outputs": [],
   "source": [
    "R, (x,y) = polynomial_ring(QQ,[\"x\",\"y\"]);"
   ]
  },
  {
   "cell_type": "markdown",
   "metadata": {},
   "source": [
    "### Example 3.22"
   ]
  },
  {
   "cell_type": "code",
   "execution_count": 11,
   "metadata": {},
   "outputs": [
    {
     "name": "stdout",
     "output_type": "stream",
     "text": [
      "f1 = x^27 + 42*y^15\n",
      "f2 = -5*x^20 + y^43\n",
      "Bezout bound: 1161\n",
      "Mixed volume: 861\n",
      "Khovanskii's Fewnomial Bound: 216\n"
     ]
    }
   ],
   "source": [
    "f1 = x^27 + 42*y^15\n",
    "f2 = y^43 - 5*x^20\n",
    "my_mixed_volume([newton_polytope(f1),newton_polytope(f2)])\n",
    "print(\"f1 = \")\n",
    "println(f1)\n",
    "print(\"f2 = \")\n",
    "println(f2)\n",
    "print(\"Bezout bound: \")\n",
    "println(total_degree(f1)*total_degree(f2))\n",
    "print(\"Mixed volume: \")\n",
    "println(my_mixed_volume([newton_polytope(f1),newton_polytope(f2)]))\n",
    "print(\"Khovanskii's Fewnomial Bound: \")\n",
    "println(2^(binomial((length(collect(terms(f1+f2)))-1), (2))) * (number_of_variables(R)+1)^(length(collect(terms(f1+f2)))-1))"
   ]
  },
  {
   "cell_type": "markdown",
   "metadata": {},
   "source": [
    "### Example 3.23 and 4.2"
   ]
  },
  {
   "cell_type": "code",
   "execution_count": 12,
   "metadata": {},
   "outputs": [
    {
     "name": "stdout",
     "output_type": "stream",
     "text": [
      "f1 = x^57 - x*y + 1\n",
      "f2 = -x*y + y^63 + 2\n",
      "Bezout bound: 3591\n",
      "Mixed volume: 3591\n",
      "Khovanskii's Fewnomial Bound: 216\n"
     ]
    }
   ],
   "source": [
    "f1 = x^57 - x*y+1\n",
    "f2 = y^63 - x*y+2\n",
    "my_mixed_volume([newton_polytope(f1),newton_polytope(f2)])\n",
    "print(\"f1 = \")\n",
    "println(f1)\n",
    "print(\"f2 = \")\n",
    "println(f2)\n",
    "print(\"Bezout bound: \")\n",
    "println(total_degree(f1)*total_degree(f2))\n",
    "print(\"Mixed volume: \")\n",
    "println(my_mixed_volume([newton_polytope(f1),newton_polytope(f2)]))\n",
    "print(\"Khovanskii's Fewnomial Bound: \")\n",
    "println(2^(binomial((length(collect(terms(f1+f2)))-1), (2))) * (number_of_variables(R)+1)^(length(collect(terms(f1+f2)))-1))"
   ]
  }
 ],
 "metadata": {
  "kernelspec": {
   "display_name": "Julia 1.9.4",
   "language": "julia",
   "name": "julia-1.9"
  },
  "language_info": {
   "file_extension": ".jl",
   "mimetype": "application/julia",
   "name": "julia",
   "version": "1.9.4"
  }
 },
 "nbformat": 4,
 "nbformat_minor": 2
}
