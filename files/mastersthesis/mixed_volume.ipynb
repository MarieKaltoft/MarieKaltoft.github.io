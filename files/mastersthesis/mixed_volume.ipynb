{
 "cells": [
  {
   "cell_type": "markdown",
   "metadata": {},
   "source": [
    "# Calculating mixed volume"
   ]
  },
  {
   "cell_type": "markdown",
   "metadata": {},
   "source": [
    "Tested using Julia 1.9.4 with the packages Oscar 1.0.5."
   ]
  },
  {
   "cell_type": "markdown",
   "metadata": {},
   "source": [
    "## Setup"
   ]
  },
  {
   "cell_type": "code",
   "execution_count": 26,
   "metadata": {},
   "outputs": [],
   "source": [
    "using Oscar\n",
    "import Combinatorics: powerset"
   ]
  },
  {
   "cell_type": "code",
   "execution_count": 27,
   "metadata": {},
   "outputs": [],
   "source": [
    "# From Applied Algebra and Geometry course 2023/2024 (code in this block is written by Oskar Henriksson)\n",
    "function my_mixed_volume(list_of_polytopes)\n",
    "    n = length(list_of_polytopes)\n",
    "    return sum(\n",
    "        [\n",
    "            (-1)^(n-length(I))*volume(sum(\n",
    "                list_of_polytopes[I]\n",
    "            )) \n",
    "            for I in powerset(collect(1:n)) if !isempty(I)\n",
    "        ]\n",
    "    )\n",
    "end;"
   ]
  },
  {
   "cell_type": "markdown",
   "metadata": {},
   "source": [
    "## Examples"
   ]
  },
  {
   "cell_type": "code",
   "execution_count": 28,
   "metadata": {},
   "outputs": [],
   "source": [
    "R, (x,y) = polynomial_ring(QQ,[\"x\",\"y\"]);"
   ]
  },
  {
   "cell_type": "markdown",
   "metadata": {},
   "source": [
    "### Example 3.22"
   ]
  },
  {
   "cell_type": "code",
   "execution_count": 29,
   "metadata": {},
   "outputs": [
    {
     "name": "stdout",
     "output_type": "stream",
     "text": [
      "f1 = x^27 + 42*y^15\n",
      "f2 = -5*x^20 + y^43\n",
      "Bezout bound: 1161\n",
      "Bernstein--Kushnirenko: 861\n",
      "Khovanskii's Fewnomial Bound: 216\n"
     ]
    }
   ],
   "source": [
    "f1 = x^27 + 42*y^15\n",
    "f2 = y^43 - 5*x^20\n",
    "my_mixed_volume([newton_polytope(f1),newton_polytope(f2)])\n",
    "print(\"f1 = \")\n",
    "println(f1)\n",
    "print(\"f2 = \")\n",
    "println(f2)\n",
    "print(\"Bezout bound: \")\n",
    "println(total_degree(f1)*total_degree(f2))\n",
    "print(\"Bernstein--Kushnirenko: \")\n",
    "println(my_mixed_volume([newton_polytope(f1),newton_polytope(f2)]))\n",
    "print(\"Khovanskii's Fewnomial Bound: \")\n",
    "println(2^(binomial((length(collect(terms(f1+f2)))-1), (2))) * (number_of_variables(R)+1)^(length(collect(terms(f1+f2)))-1))"
   ]
  },
  {
   "cell_type": "markdown",
   "metadata": {},
   "source": [
    "### Example 3.23 and 4.2"
   ]
  },
  {
   "cell_type": "code",
   "execution_count": 30,
   "metadata": {},
   "outputs": [
    {
     "name": "stdout",
     "output_type": "stream",
     "text": [
      "f1 = x^57 - x*y + 1\n",
      "f2 = -x*y + y^63 + 2\n",
      "Bezout bound: 3591\n",
      "Bernstein--Kushnirenko: 3591\n",
      "Khovanskii's Fewnomial Bound: 216\n"
     ]
    }
   ],
   "source": [
    "f1 = x^57 - x*y+1\n",
    "f2 = y^63 - x*y+2\n",
    "my_mixed_volume([newton_polytope(f1),newton_polytope(f2)])\n",
    "print(\"f1 = \")\n",
    "println(f1)\n",
    "print(\"f2 = \")\n",
    "println(f2)\n",
    "print(\"Bezout bound: \")\n",
    "println(total_degree(f1)*total_degree(f2))\n",
    "print(\"Bernstein--Kushnirenko: \")\n",
    "println(my_mixed_volume([newton_polytope(f1),newton_polytope(f2)]))\n",
    "print(\"Khovanskii's Fewnomial Bound: \")\n",
    "println(2^(binomial((length(collect(terms(f1+f2)))-1), (2))) * (number_of_variables(R)+1)^(length(collect(terms(f1+f2)))-1))"
   ]
  },
  {
   "cell_type": "markdown",
   "metadata": {},
   "source": [
    "### Example in introduction:"
   ]
  },
  {
   "cell_type": "code",
   "execution_count": 31,
   "metadata": {},
   "outputs": [],
   "source": [
    "S, (x,y,z) = polynomial_ring(QQ,[\"x\",\"y\",\"z\"]);"
   ]
  },
  {
   "cell_type": "code",
   "execution_count": 32,
   "metadata": {},
   "outputs": [
    {
     "name": "stdout",
     "output_type": "stream",
     "text": [
      "f1 = x^53 + x^31*y^11*z^27 + y^42*z^10 + y^37 - 3*z^47\n",
      "f2 = -2*x^53 - 11*x^31*y^11*z^27 + 5*y^42*z^10 + 4*y^37 + 42*z^47\n",
      "f3 = 2*x^53 + 83*x^31*y^11*z^27 + 3*y^42*z^10 - 13*y^37 - z^47\n",
      "Terms: QQMPolyRingElem[x^31*y^11*z^27, x^53, y^42*z^10, -3*z^47, y^37]\n",
      "Bezout bound: 328509\n",
      "Bernstein--Kushnirenko: 70310\n",
      "Khovanskii's Fewnomial Bound: 16384\n"
     ]
    }
   ],
   "source": [
    "f1 = x^53 + y^42*z^10 -3*z^47 + x^31*y^11*z^27 + y^37\n",
    "f2 = -2*x^53 + 5*y^42*z^10 + 42*z^47 - 11*x^31*y^11*z^27 + 4*y^37\n",
    "f3 = 2*x^53 + 3*y^42*z^10 - z^47 + 83*x^31*y^11*z^27 - 13*y^37\n",
    "print(\"f1 = \")\n",
    "println(f1)\n",
    "print(\"f2 = \")\n",
    "println(f2)\n",
    "print(\"f3 = \")\n",
    "println(f3)\n",
    "print(\"Terms: \")\n",
    "println(collect(terms(f1)))\n",
    "print(\"Bezout bound: \")\n",
    "println(total_degree(f1)*total_degree(f2)*total_degree(f3))\n",
    "print(\"Bernstein--Kushnirenko: \")\n",
    "println(my_mixed_volume([newton_polytope(f1),newton_polytope(f2),newton_polytope(f3)]))\n",
    "print(\"Khovanskii's Fewnomial Bound: \")\n",
    "println(2^(binomial((length(collect(terms(f1)))-1), (2))) * (number_of_variables(S)+1)^(length(collect(terms(f1)))-1))"
   ]
  },
  {
   "cell_type": "markdown",
   "metadata": {},
   "source": [
    "We check that the support is a circuit:"
   ]
  },
  {
   "cell_type": "code",
   "execution_count": 33,
   "metadata": {},
   "outputs": [
    {
     "data": {
      "text/plain": [
       "3"
      ]
     },
     "metadata": {},
     "output_type": "display_data"
    }
   ],
   "source": [
    "t = convex_hull([53 0 0; 0 42 10; 0 0 47; 0 37 0; 31 11 27]);\n",
    "dim(t)"
   ]
  }
 ],
 "metadata": {
  "kernelspec": {
   "display_name": "Julia 1.9.4",
   "language": "julia",
   "name": "julia-1.9"
  },
  "language_info": {
   "file_extension": ".jl",
   "mimetype": "application/julia",
   "name": "julia",
   "version": "1.9.4"
  }
 },
 "nbformat": 4,
 "nbformat_minor": 2
}
