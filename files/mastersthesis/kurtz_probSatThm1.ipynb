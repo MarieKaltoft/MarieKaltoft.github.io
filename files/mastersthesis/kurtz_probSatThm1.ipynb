{
 "cells": [
  {
   "cell_type": "markdown",
   "metadata": {},
   "source": [
    "# Testing the probability that Kurtz' theorem is satisfied"
   ]
  },
  {
   "cell_type": "markdown",
   "metadata": {},
   "source": [
    "I.e., testing the conditions of the theorem, when given a real rooted polynomial."
   ]
  },
  {
   "cell_type": "markdown",
   "metadata": {},
   "source": [
    "Tested using Julia 1.9.4 with the packages Oscar 1.0.5, Distributions 0.25."
   ]
  },
  {
   "cell_type": "markdown",
   "metadata": {},
   "source": [
    "Loading packages:"
   ]
  },
  {
   "cell_type": "code",
   "execution_count": 1,
   "metadata": {},
   "outputs": [],
   "source": [
    "using Oscar, Random, Distributions"
   ]
  },
  {
   "cell_type": "markdown",
   "metadata": {},
   "source": [
    "Defining $\\mathbb{R}[x]$:"
   ]
  },
  {
   "cell_type": "code",
   "execution_count": 2,
   "metadata": {},
   "outputs": [
    {
     "data": {
      "text/plain": [
       "(Univariate polynomial ring in x over RR, x)"
      ]
     },
     "metadata": {},
     "output_type": "display_data"
    }
   ],
   "source": [
    "RR = RealField()\n",
    "R, x = polynomial_ring(RR, :x)"
   ]
  },
  {
   "cell_type": "markdown",
   "metadata": {},
   "source": [
    "## Functions"
   ]
  },
  {
   "cell_type": "markdown",
   "metadata": {},
   "source": [
    "### probability_satisfied\n",
    "Function to sample real rooted polynomials and check how many of them satisfy Kurtz' theorem (note that this function outputs a tuple (number satisfied, sample size)):"
   ]
  },
  {
   "cell_type": "code",
   "execution_count": 3,
   "metadata": {},
   "outputs": [
    {
     "data": {
      "text/plain": [
       "probability_satisfied (generic function with 3 methods)"
      ]
     },
     "metadata": {},
     "output_type": "display_data"
    }
   ],
   "source": [
    "function probability_satisfied(degree::Int, sample_interval::Tuple{BigFloat, BigFloat}, sample_size::Int=100, rng_seed=123)\n",
    "    \"\"\"\n",
    "    Returns ratio of polynomials satisfying the conditions of [Kurtz1992].\n",
    "    To do this, the function generates polynomials with uniformly distributed real roots and checks if they satisfy the conditions of [Kurtz1992, Thm 1].\n",
    "    Input:\n",
    "        - degree: The degree of the polynomials, which we wish to test.\n",
    "        - sample_interval: Interval the roots should be sampled from.\n",
    "        - sample_size=100: How many polynomials to sample. Default is 100.\n",
    "        - rng_seed=123: Seed for our random device.\n",
    "    Output: (satisfied, sample_size)\n",
    "    \"\"\"\n",
    "    # Setup random generator:\n",
    "    rng = Xoshiro(rng_seed)\n",
    "\n",
    "    # Uniform distribution to sample from:\n",
    "    sample_space = Distributions.Uniform(sample_interval[1], sample_interval[2])\n",
    "\n",
    "    # Initializing variable to count number of polynomials, which satisfy the conditions in the theorem:\n",
    "    number_satisfying_conditions = 0\n",
    "\n",
    "    # Perform sampling:\n",
    "    for i in 1:sample_size\n",
    "        # Generate polynomial:\n",
    "        random_polynomial = generate_random_polynomial(degree, sample_space)\n",
    "        # Check if it satisfies conditions, and if so, increment counter by 1:\n",
    "        satisfies = check_conditions(random_polynomial)[1]\n",
    "        if satisfies\n",
    "            number_satisfying_conditions += 1\n",
    "        end\n",
    "    end\n",
    "\n",
    "    return number_satisfying_conditions/sample_size\n",
    "end"
   ]
  },
  {
   "cell_type": "markdown",
   "metadata": {},
   "source": [
    "### check_conditions\n",
    "Function to check that conditions of Kurtz' theorem are satisfied. It does not check for real roots by default, as it assumes the polynomial is constructed, such that the roots are real."
   ]
  },
  {
   "cell_type": "code",
   "execution_count": 4,
   "metadata": {},
   "outputs": [
    {
     "data": {
      "text/plain": [
       "check_conditions (generic function with 2 methods)"
      ]
     },
     "metadata": {},
     "output_type": "display_data"
    }
   ],
   "source": [
    "function check_conditions(pol::RealPoly, check_roots_real::Bool = false)\n",
    "    \"\"\"\n",
    "    Determines if all conditions are satisfied:\n",
    "        - All coefficients are positive.\n",
    "        - S(P,i)>4, for all i=1,...,n-1\n",
    "        - The polynomial has some non-real roots. (This last check only happens if check_roots_real is true.)\n",
    "    Input:\n",
    "        - RealPoly pol\n",
    "        - Bool check_roots_real\n",
    "    \"\"\"\n",
    "    coeffs = collect(coefficients(pol)) # note: index 1 is constant term, index n+1 is n'th term\n",
    "    pol_degree = Oscar.degree(pol)\n",
    "    \n",
    "    # Check that all coefficients are positive:\n",
    "    for a in coeffs\n",
    "        if a <= 0\n",
    "            return (false, \"Not all coefficients are positive.\")\n",
    "        end\n",
    "    end\n",
    "    \n",
    "    # Check that S(P,i)>4 for all i:\n",
    "    for i in 1:(pol_degree - 1)\n",
    "        S = (coeffs[i+1]^2)/(coeffs[(i-1)+1]*coeffs[(i+1)+1])\n",
    "        if S <= 4\n",
    "            return (false, \"S(pol, \" * string(i) * \")<=4\")\n",
    "        end\n",
    "    end\n",
    "\n",
    "    # If check_roots_real==true: Check that the polynomial has only real roots:\n",
    "    if check_roots_real==true\n",
    "        coeffs = collect(coefficients(pol))\n",
    "        CC = ComplexField()\n",
    "        C, z = CC[:z]\n",
    "        fC = C(coeffs)\n",
    "        complex_roots = roots(fC)\n",
    "        for root in complex_roots\n",
    "            if !isreal(root)\n",
    "                return (false, \"Some roots are non-real.\")\n",
    "            end\n",
    "        end\n",
    "    end\n",
    "    \n",
    "    return (true, \"All conditions are satisfied.\")\n",
    "end"
   ]
  },
  {
   "cell_type": "markdown",
   "metadata": {},
   "source": [
    "### generate_random_polynomial\n",
    "Function to generate the polynomials:"
   ]
  },
  {
   "cell_type": "code",
   "execution_count": 5,
   "metadata": {},
   "outputs": [
    {
     "data": {
      "text/plain": [
       "generate_random_polynomial (generic function with 1 method)"
      ]
     },
     "metadata": {},
     "output_type": "display_data"
    }
   ],
   "source": [
    "function generate_random_polynomial(degree::Int, sample_space::Uniform{BigFloat})\n",
    "    \"\"\"\n",
    "    Returns polynomial generated from uniformly random roots.\n",
    "    Input:\n",
    "        - degree: degree of the desired polynomial.\n",
    "        - sample_space: uniform distribution to sample from.\n",
    "    Output: polynomial\n",
    "    \"\"\"\n",
    "    pol = 1\n",
    "    for i in 1:degree\n",
    "        root = rand(sample_space)\n",
    "        pol *= (x-root)\n",
    "    end\n",
    "\n",
    "    return pol\n",
    "end"
   ]
  },
  {
   "cell_type": "markdown",
   "metadata": {},
   "source": [
    "## Tests"
   ]
  },
  {
   "cell_type": "markdown",
   "metadata": {},
   "source": [
    "### Degree 3:"
   ]
  },
  {
   "cell_type": "code",
   "execution_count": 6,
   "metadata": {},
   "outputs": [
    {
     "name": "stdout",
     "output_type": "stream",
     "text": [
      "Interval (-100,0): 0.11938581\n",
      "673.590053 seconds (6.35 G allocations: 398.412 GiB, 23.96% gc time, 0.02% compilation time)\n",
      "Interval (-1000,0): 0.11937622\n",
      "667.734507 seconds (6.35 G allocations: 398.408 GiB, 24.07% gc time)\n",
      "Interval (-10000,0): 0.11934174\n",
      "672.859719 seconds (6.35 G allocations: 398.409 GiB, 23.74% gc time)\n",
      "Interval (-100000,0): 0.11938009\n",
      "691.138539 seconds (6.44 G allocations: 409.401 GiB, 23.33% gc time)\n",
      "Interval (-1000000,0): 0.11938332\n",
      "691.342360 seconds (6.45 G allocations: 411.767 GiB, 23.29% gc time)\n"
     ]
    }
   ],
   "source": [
    "print(\"Interval (-100,0): \")\n",
    "@time println(probability_satisfied(3, (BigFloat(-100.0), BigFloat(0.0)), 100000000))\n",
    "print(\"Interval (-1000,0): \")\n",
    "@time println(probability_satisfied(3, (BigFloat(-1000.0), BigFloat(0.0)), 100000000))\n",
    "print(\"Interval (-10000,0): \")\n",
    "@time println(probability_satisfied(3, (BigFloat(-10000.0), BigFloat(0.0)), 100000000))\n",
    "print(\"Interval (-100000,0): \")\n",
    "@time println(probability_satisfied(3, (BigFloat(-100000.0), BigFloat(0.0)), 100000000))\n",
    "print(\"Interval (-1000000,0): \")\n",
    "@time println(probability_satisfied(3, (BigFloat(-1000000.0), BigFloat(0.0)), 100000000))"
   ]
  },
  {
   "cell_type": "code",
   "execution_count": 7,
   "metadata": {},
   "outputs": [
    {
     "name": "stdout",
     "output_type": "stream",
     "text": [
      "Interval (-100,-1): 0.09765286\n",
      "670.851662 seconds (6.35 G allocations: 397.847 GiB, 23.69% gc time)\n",
      "Interval (-1000,-1): 0.11685948\n",
      "666.905854 seconds (6.36 G allocations: 399.320 GiB, 23.77% gc time)\n",
      "Interval (-10000,-1): 0.11908152\n",
      "694.095533 seconds (6.45 G allocations: 411.653 GiB, 22.85% gc time)\n",
      "Interval (-100000,-1): 0.1193003\n",
      "689.169412 seconds (6.45 G allocations: 411.815 GiB, 23.00% gc time)\n",
      "Interval (-1000000,-1): 0.11941458\n",
      "687.005810 seconds (6.45 G allocations: 411.822 GiB, 23.09% gc time)\n"
     ]
    }
   ],
   "source": [
    "print(\"Interval (-100,-1): \")\n",
    "@time println(probability_satisfied(3, (BigFloat(-100.0), BigFloat(-1.0)), 100000000))\n",
    "print(\"Interval (-1000,-1): \")\n",
    "@time println(probability_satisfied(3, (BigFloat(-1000.0), BigFloat(-1.0)), 100000000))\n",
    "print(\"Interval (-10000,-1): \")\n",
    "@time println(probability_satisfied(3, (BigFloat(-10000.0), BigFloat(-1.0)), 100000000))\n",
    "print(\"Interval (-100000,-1): \")\n",
    "@time println(probability_satisfied(3, (BigFloat(-100000.0), BigFloat(-1.0)), 100000000))\n",
    "print(\"Interval (-1000000,-1): \")\n",
    "@time println(probability_satisfied(3, (BigFloat(-1000000.0), BigFloat(-1.0)), 100000000))"
   ]
  },
  {
   "cell_type": "markdown",
   "metadata": {},
   "source": [
    "### Degree 4:"
   ]
  },
  {
   "cell_type": "code",
   "execution_count": 8,
   "metadata": {},
   "outputs": [
    {
     "name": "stdout",
     "output_type": "stream",
     "text": [
      "Interval (-100,0): 0.00486293\n",
      "841.055325 seconds (7.95 G allocations: 512.813 GiB, 22.59% gc time)\n",
      "Interval (-1000,0): 0.00485887\n",
      "835.986263 seconds (7.95 G allocations: 512.814 GiB, 22.63% gc time)\n",
      "Interval (-10000,0): 0.00487097\n",
      "854.815077 seconds (7.95 G allocations: 512.891 GiB, 22.38% gc time)\n",
      "Interval (-100000,0): 0.00485577\n",
      "867.007454 seconds (8.05 G allocations: 525.395 GiB, 21.97% gc time)\n",
      "Interval (-1000000,0): 0.00487046\n",
      "869.574618 seconds (8.05 G allocations: 526.219 GiB, 21.92% gc time)\n"
     ]
    }
   ],
   "source": [
    "print(\"Interval (-100,0): \")\n",
    "@time println(probability_satisfied(4, (BigFloat(-100.0), BigFloat(0.0)), 100000000))\n",
    "print(\"Interval (-1000,0): \")\n",
    "@time println(probability_satisfied(4, (BigFloat(-1000.0), BigFloat(0.0)), 100000000))\n",
    "print(\"Interval (-10000,0): \")\n",
    "@time println(probability_satisfied(4, (BigFloat(-10000.0), BigFloat(0.0)), 100000000))\n",
    "print(\"Interval (-100000,0): \")\n",
    "@time println(probability_satisfied(4, (BigFloat(-100000.0), BigFloat(0.0)), 100000000))\n",
    "print(\"Interval (-1000000,0): \")\n",
    "@time println(probability_satisfied(4, (BigFloat(-1000000.0), BigFloat(0.0)), 100000000))"
   ]
  },
  {
   "cell_type": "code",
   "execution_count": 9,
   "metadata": {},
   "outputs": [
    {
     "name": "stdout",
     "output_type": "stream",
     "text": [
      "Interval (-100,-1): 0.00157997\n",
      "841.331661 seconds (7.93 G allocations: 511.256 GiB, 22.48% gc time)\n",
      "Interval (-1000,-1): 0.00442414\n",
      "852.738406 seconds (7.98 G allocations: 516.284 GiB, 22.48% gc time)\n",
      "Interval (-10000,-1): 0.00481732\n",
      "875.632216 seconds (8.05 G allocations: 526.190 GiB, 21.66% gc time)\n",
      "Interval (-100000,-1): 0.00485834\n",
      "867.703395 seconds (8.05 G allocations: 526.225 GiB, 21.74% gc time)\n",
      "Interval (-1000000,-1): 0.00486441\n",
      "864.545923 seconds (8.05 G allocations: 526.225 GiB, 21.83% gc time)\n"
     ]
    }
   ],
   "source": [
    "print(\"Interval (-100,-1): \")\n",
    "@time println(probability_satisfied(4, (BigFloat(-100.0), BigFloat(-1.0)), 100000000))\n",
    "print(\"Interval (-1000,-1): \")\n",
    "@time println(probability_satisfied(4, (BigFloat(-1000.0), BigFloat(-1.0)), 100000000))\n",
    "print(\"Interval (-10000,-1): \")\n",
    "@time println(probability_satisfied(4, (BigFloat(-10000.0), BigFloat(-1.0)), 100000000))\n",
    "print(\"Interval (-100000,-1): \")\n",
    "@time println(probability_satisfied(4, (BigFloat(-100000.0), BigFloat(-1.0)), 100000000))\n",
    "print(\"Interval (-1000000,-1): \")\n",
    "@time println(probability_satisfied(4, (BigFloat(-1000000.0), BigFloat(-1.0)), 100000000))"
   ]
  },
  {
   "cell_type": "markdown",
   "metadata": {},
   "source": [
    "### Degree 5:"
   ]
  },
  {
   "cell_type": "code",
   "execution_count": 10,
   "metadata": {},
   "outputs": [
    {
     "name": "stdout",
     "output_type": "stream",
     "text": [
      "Interval (-100,0): 5.144e-5\n",
      "1020.952187 seconds (9.52 G allocations: 629.432 GiB, 21.74% gc time)\n",
      "Interval (-1000,0): 5.231e-5\n",
      "1020.426620 seconds (9.52 G allocations: 629.429 GiB, 21.88% gc time)\n",
      "Interval (-10000,0): 5.08e-5\n",
      "1033.431820 seconds (9.53 G allocations: 630.261 GiB, 21.59% gc time)\n",
      "Interval (-100000,0): 5.278e-5\n",
      "1039.337069 seconds (9.62 G allocations: 642.595 GiB, 21.16% gc time)\n",
      "Interval (-1000000,0): 5.13e-5\n",
      "1042.313971 seconds (9.62 G allocations: 642.839 GiB, 21.06% gc time)\n"
     ]
    }
   ],
   "source": [
    "print(\"Interval (-100,0): \")\n",
    "@time println(probability_satisfied(5, (BigFloat(-100.0), BigFloat(0.0)), 100000000))\n",
    "print(\"Interval (-1000,0): \")\n",
    "@time println(probability_satisfied(5, (BigFloat(-1000.0), BigFloat(0.0)), 100000000))\n",
    "print(\"Interval (-10000,0): \")\n",
    "@time println(probability_satisfied(5, (BigFloat(-10000.0), BigFloat(0.0)), 100000000))\n",
    "print(\"Interval (-100000,0): \")\n",
    "@time println(probability_satisfied(5, (BigFloat(-100000.0), BigFloat(0.0)), 100000000))\n",
    "print(\"Interval (-1000000,0): \")\n",
    "@time println(probability_satisfied(5, (BigFloat(-1000000.0), BigFloat(0.0)), 100000000))"
   ]
  },
  {
   "cell_type": "code",
   "execution_count": 11,
   "metadata": {},
   "outputs": [
    {
     "name": "stdout",
     "output_type": "stream",
     "text": [
      "Interval (-100,-1): 0.0\n",
      "1028.367650 seconds (9.50 G allocations: 627.521 GiB, 21.60% gc time)\n",
      "Interval (-1000,-1): 3.061e-5\n",
      "1039.765472 seconds (9.57 G allocations: 636.104 GiB, 21.49% gc time)\n",
      "Interval (-10000,-1): 4.943e-5\n",
      "1063.133125 seconds (9.62 G allocations: 642.816 GiB, 20.82% gc time)\n",
      "Interval (-100000,-1): 5.111e-5\n",
      "1052.997061 seconds (9.62 G allocations: 642.839 GiB, 20.94% gc time)\n",
      "Interval (-1000000,-1): 5.016e-5\n",
      "1050.952301 seconds (9.62 G allocations: 642.839 GiB, 21.04% gc time)\n"
     ]
    }
   ],
   "source": [
    "print(\"Interval (-100,-1): \")\n",
    "@time println(probability_satisfied(5, (BigFloat(-100.0), BigFloat(-1.0)), 100000000))\n",
    "print(\"Interval (-1000,-1): \")\n",
    "@time println(probability_satisfied(5, (BigFloat(-1000.0), BigFloat(-1.0)), 100000000))\n",
    "print(\"Interval (-10000,-1): \")\n",
    "@time println(probability_satisfied(5, (BigFloat(-10000.0), BigFloat(-1.0)), 100000000))\n",
    "print(\"Interval (-100000,-1): \")\n",
    "@time println(probability_satisfied(5, (BigFloat(-100000.0), BigFloat(-1.0)), 100000000))\n",
    "print(\"Interval (-1000000,-1): \")\n",
    "@time println(probability_satisfied(5, (BigFloat(-1000000.0), BigFloat(-1.0)), 100000000))"
   ]
  },
  {
   "cell_type": "markdown",
   "metadata": {},
   "source": [
    "### Degree 6:"
   ]
  },
  {
   "cell_type": "code",
   "execution_count": 12,
   "metadata": {},
   "outputs": [
    {
     "name": "stdout",
     "output_type": "stream",
     "text": [
      "Interval (-100,0): 8.0e-8\n",
      "Interval (-1000,0): 1.6e-7\n",
      "Interval (-10000,0): 1.3e-7\n",
      "Interval (-100000,0): 1.6e-7\n",
      "Interval (-1000000,0): 1.2e-7\n"
     ]
    }
   ],
   "source": [
    "print(\"Interval (-100,0): \")\n",
    "println(probability_satisfied(6, (BigFloat(-100.0), BigFloat(0.0)), 100000000))\n",
    "print(\"Interval (-1000,0): \")\n",
    "println(probability_satisfied(6, (BigFloat(-1000.0), BigFloat(0.0)), 100000000))\n",
    "print(\"Interval (-10000,0): \")\n",
    "println(probability_satisfied(6, (BigFloat(-10000.0), BigFloat(0.0)), 100000000))\n",
    "print(\"Interval (-100000,0): \")\n",
    "println(probability_satisfied(6, (BigFloat(-100000.0), BigFloat(0.0)), 100000000))\n",
    "print(\"Interval (-1000000,0): \")\n",
    "println(probability_satisfied(6, (BigFloat(-1000000.0), BigFloat(0.0)), 100000000))"
   ]
  },
  {
   "cell_type": "code",
   "execution_count": 13,
   "metadata": {},
   "outputs": [
    {
     "name": "stdout",
     "output_type": "stream",
     "text": [
      "Interval (-100,-1): 0.0\n",
      "Interval (-1000,-1): 3.0e-8\n",
      "Interval (-10000,-1): 9.0e-8\n",
      "Interval (-100000,-1): 1.3e-7\n",
      "Interval (-1000000,-1): 1.4e-7\n"
     ]
    }
   ],
   "source": [
    "print(\"Interval (-100,-1): \")\n",
    "println(probability_satisfied(6, (BigFloat(-100.0), BigFloat(-1.0)), 100000000))\n",
    "print(\"Interval (-1000,-1): \")\n",
    "println(probability_satisfied(6, (BigFloat(-1000.0), BigFloat(-1.0)), 100000000))\n",
    "print(\"Interval (-10000,-1): \")\n",
    "println(probability_satisfied(6, (BigFloat(-10000.0), BigFloat(-1.0)), 100000000))\n",
    "print(\"Interval (-100000,-1): \")\n",
    "println(probability_satisfied(6, (BigFloat(-100000.0), BigFloat(-1.0)), 100000000))\n",
    "print(\"Interval (-1000000,-1): \")\n",
    "println(probability_satisfied(6, (BigFloat(-1000000.0), BigFloat(-1.0)), 100000000))"
   ]
  }
 ],
 "metadata": {
  "kernelspec": {
   "display_name": "Julia 1.9.4",
   "language": "julia",
   "name": "julia-1.9"
  },
  "language_info": {
   "file_extension": ".jl",
   "mimetype": "application/julia",
   "name": "julia",
   "version": "1.9.4"
  }
 },
 "nbformat": 4,
 "nbformat_minor": 2
}
