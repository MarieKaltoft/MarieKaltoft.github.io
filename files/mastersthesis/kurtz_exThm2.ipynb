{
 "cells": [
  {
   "cell_type": "markdown",
   "metadata": {},
   "source": [
    "# Algorithm to find the examples from Thm 2 [Kurtz, 1992]"
   ]
  },
  {
   "cell_type": "markdown",
   "metadata": {},
   "source": [
    "Tested using Julia 1.9.4, Oscar 1.0.5, IntervalArithmetic 0.22."
   ]
  },
  {
   "cell_type": "markdown",
   "metadata": {},
   "source": [
    "Loading packages:"
   ]
  },
  {
   "cell_type": "code",
   "execution_count": 74,
   "metadata": {},
   "outputs": [],
   "source": [
    "using Oscar, IntervalArithmetic "
   ]
  },
  {
   "cell_type": "markdown",
   "metadata": {},
   "source": [
    "Defining $\\mathbb{R}[t]$:"
   ]
  },
  {
   "cell_type": "code",
   "execution_count": 75,
   "metadata": {},
   "outputs": [
    {
     "data": {
      "text/plain": [
       "(Univariate polynomial ring in t over RR, t)"
      ]
     },
     "metadata": {},
     "output_type": "display_data"
    }
   ],
   "source": [
    "RR = RealField()\n",
    "R, t = RR[:t] # polynomial ring"
   ]
  },
  {
   "cell_type": "markdown",
   "metadata": {},
   "source": [
    "### find_Kurtz_example"
   ]
  },
  {
   "cell_type": "code",
   "execution_count": 76,
   "metadata": {},
   "outputs": [
    {
     "data": {
      "text/plain": [
       "find_Kurtz_example (generic function with 1 method)"
      ]
     },
     "metadata": {},
     "output_type": "display_data"
    }
   ],
   "source": [
    "function find_Kurtz_example(epsilon::BigFloat, degree::Int)\n",
    "    \"\"\"\n",
    "    Returns example constructed from given degree and epsilon, as in the proof of Theorem 2 in the article [Kurtz, 1992].\n",
    "    \"\"\"\n",
    "    epsilon = BigFloat(epsilon)\n",
    "    # We want to find a degree (degree-1) polynomial, which is a example in degree (n-1) and with epsilon/2.\n",
    "    # If degree = 2, we need to find such a degree 2 polynomial with the same epsilon. \n",
    "    #       (Note: this only happens, if the original degree is 2 and there is no recursion.)\n",
    "    # Else, the original degree is more than 2:\n",
    "        # If degree = 3, we need to find such a degree 2 polynomial with epsilon/2.\n",
    "        # Else, we recurse.\n",
    "    if degree == 2 # original degree = 2 (no recursion)\n",
    "        return find_deg2_Kurtz_example(epsilon)\n",
    "    else # original degree > 2\n",
    "        if degree == 3\n",
    "            pol_deg_n_1 = find_deg2_Kurtz_example(BigFloat(epsilon/2))\n",
    "        else\n",
    "            pol_deg_n_1 = find_Kurtz_example(BigFloat(epsilon/2), Int(degree-1))\n",
    "        end\n",
    "        # Find f_mu from pol_deg_n_1\n",
    "        return find_f_mu(pol_deg_n_1, epsilon)\n",
    "    end\n",
    "end"
   ]
  },
  {
   "cell_type": "markdown",
   "metadata": {},
   "source": [
    "### find_deg2_Kurtz_example"
   ]
  },
  {
   "cell_type": "code",
   "execution_count": 77,
   "metadata": {},
   "outputs": [
    {
     "data": {
      "text/plain": [
       "find_deg2_Kurtz_example (generic function with 1 method)"
      ]
     },
     "metadata": {},
     "output_type": "display_data"
    }
   ],
   "source": [
    "function find_deg2_Kurtz_example(epsilon::BigFloat)\n",
    "    \"\"\"\n",
    "    Returns base case (degree 2) example constructed from given epsilon. \n",
    "    This function is called as part of the ´find_Kurtz_example´ algorithm.\n",
    "    \"\"\"\n",
    "    epsilon = BigFloat(epsilon)\n",
    "    # As we pick a=b=1, we only need to find c.\n",
    "    # The upper limit on c depends on the value of epsilon:\n",
    "    if (epsilon >= 4)\n",
    "        c = 1 # as we just need c > 1/4\n",
    "    else # if (epsilon < 4)\n",
    "        less_than_c = convert(BigFloat, 1/4)\n",
    "        greater_than_c = convert(BigFloat, -(1/(epsilon - 4)))\n",
    "        possible_values = IntervalArithmetic.bareinterval(less_than_c, greater_than_c)\n",
    "        #less_than_c = 1/4\n",
    "        #greater_than_c = -(1/(epsilon - 4))\n",
    "        c = IntervalArithmetic.mid(possible_values, 0.5)\n",
    "    end\n",
    "    # The degree 2 polynomial:\n",
    "    return R(BigFloat[c,1,1])\n",
    "end"
   ]
  },
  {
   "cell_type": "markdown",
   "metadata": {},
   "source": [
    "### find_f_mu"
   ]
  },
  {
   "cell_type": "code",
   "execution_count": 78,
   "metadata": {},
   "outputs": [
    {
     "data": {
      "text/plain": [
       "find_f_mu (generic function with 1 method)"
      ]
     },
     "metadata": {},
     "output_type": "display_data"
    }
   ],
   "source": [
    "function find_f_mu(pol_deg_n_1::RealPoly, epsilon::BigFloat)\n",
    "    \"\"\"\n",
    "    Returns next polynomial, when given a polynomial of degree one less.\n",
    "    This function is called as part of the ´find_Kurtz_example´ algorithm.\n",
    "    \"\"\"\n",
    "    epsilon = BigFloat(epsilon)\n",
    "    # Starting value of mu:\n",
    "    mu = 1\n",
    "\n",
    "    while !(check_mu(pol_deg_n_1, epsilon, mu))\n",
    "        mu = mu + 1\n",
    "    end\n",
    "    return (mu*t+1)*pol_deg_n_1\n",
    "end"
   ]
  },
  {
   "cell_type": "markdown",
   "metadata": {},
   "source": [
    "### check_mu"
   ]
  },
  {
   "cell_type": "code",
   "execution_count": 79,
   "metadata": {},
   "outputs": [
    {
     "data": {
      "text/plain": [
       "check_mu (generic function with 1 method)"
      ]
     },
     "metadata": {},
     "output_type": "display_data"
    }
   ],
   "source": [
    "function check_mu(pol_deg_n_1::RealPoly, epsilon::BigFloat, mu)\n",
    "    \"\"\"\n",
    "    Determines if the condition 'S(f,i)>4-epsilon, for all i=1,...,n-1' is satisfied.\n",
    "    This function is called as part of the ´find_Kurtz_example´ algorithm.\n",
    "    \"\"\"\n",
    "    epsilon = BigFloat(epsilon)\n",
    "    coeffs = collect(coefficients(pol_deg_n_1)) # note: index 1 is constant term, index n+1 is n'th term\n",
    "    degree_n = length(pol_deg_n_1)\n",
    "\n",
    "    # First consider the case i=1:\n",
    "    S = (mu*coeffs[0+1]^2 + 2*coeffs[0+1]*coeffs[1+1] + (1/mu)*coeffs[1+1]^2)/(coeffs[0+1]*coeffs[1+1]+(1/mu)*coeffs[0+1]*coeffs[1+1])\n",
    "    if S <= (4-epsilon)\n",
    "        return false\n",
    "    end\n",
    "    # Next, the case i=2,...,n-2:\n",
    "    for i in 2:(degree_n-2)\n",
    "        S = (coeffs[(i-1)+1]^2 + (1/mu)*2*coeffs[(i-1)+1]*coeffs[i+1] + (1/mu^2)*coeffs[i+1]^2) / (coeffs[i+1]*coeffs[(i-2)+1]+(1/mu)*(coeffs[(i-2)+1]*coeffs[(i+1)+1]+coeffs[i+1]*coeffs[(i-1)+1]) + (1/mu^2)*coeffs[(i-1)+1]*coeffs[(i+1)+1])\n",
    "        if S <= (4-epsilon)\n",
    "            return false\n",
    "        end\n",
    "    end\n",
    "    # Lastly, the case i=n-1:\n",
    "    S = (coeffs[(degree_n-2)+1]^2 + (1/mu)*2*coeffs[(degree_n-2)+1]*coeffs[(degree_n-1)+1] + (1/mu^2)*coeffs[(degree_n-1)+1]^2) / (coeffs[(degree_n-1)+1]*coeffs[(degree_n-3)+1]+(1/mu)*coeffs[(degree_n-1)+1]*coeffs[(degree_n-2)+1])\n",
    "    if S <= (4-epsilon)\n",
    "        return false\n",
    "    end\n",
    "    return true\n",
    "end"
   ]
  },
  {
   "cell_type": "markdown",
   "metadata": {},
   "source": [
    "### Function to check if a polynomial and some epsilon satisfy the conditions"
   ]
  },
  {
   "cell_type": "code",
   "execution_count": 80,
   "metadata": {},
   "outputs": [
    {
     "data": {
      "text/plain": [
       "check_conditions (generic function with 1 method)"
      ]
     },
     "metadata": {},
     "output_type": "display_data"
    }
   ],
   "source": [
    "function check_conditions(pol::RealPoly, epsilon::BigFloat)\n",
    "    \"\"\"\n",
    "    Determines if all conditions are satisfied:\n",
    "        - All coefficients are positive.\n",
    "        - S(P,i)>4-epsilon, for all i=1,...,n-1\n",
    "        - The polynomial has some non-real roots.\n",
    "    Input:\n",
    "        - RealPoly pol\n",
    "        - BigFloat epsilon\n",
    "    \"\"\"\n",
    "    epsilon = BigFloat(epsilon)\n",
    "    coeffs = collect(coefficients(pol)) # note: index 1 is constant term, index n+1 is n'th term\n",
    "    pol_degree = Oscar.degree(pol)\n",
    "    \n",
    "    # Check that all coefficients are positive:\n",
    "    for a in coeffs\n",
    "        if a <= 0\n",
    "            return (false, \"Not all coefficients are positive.\")\n",
    "        end\n",
    "    end\n",
    "    \n",
    "    # Check that S(f,i)>(4-epsilon) for all i:\n",
    "    for i in 1:(pol_degree - 1)\n",
    "        S = (coeffs[i+1]^2)/(coeffs[(i-1)+1]*coeffs[(i+1)+1])\n",
    "        if S <= (4-epsilon)\n",
    "            return (false, \"S(pol, \" * string(i) * \")<=(4-epsilon)\")\n",
    "        end\n",
    "    end\n",
    "\n",
    "    # Check that the polynomial has some non-real roots:\n",
    "    coeffs = collect(coefficients(pol))\n",
    "    CC = ComplexField()\n",
    "    C, z = CC[:z]\n",
    "    fC = C(coeffs)\n",
    "    complex_roots = roots(fC)\n",
    "    number_of_real_roots = 0\n",
    "    for root in complex_roots\n",
    "        if isreal(root)\n",
    "            number_of_real_roots += 1\n",
    "        end\n",
    "    end\n",
    "    if number_of_real_roots == pol_degree\n",
    "        return (false, \"All roots are real.\")\n",
    "    end\n",
    "\n",
    "    return (true, \"All conditions are satisfied.\")\n",
    "end"
   ]
  },
  {
   "cell_type": "markdown",
   "metadata": {},
   "source": [
    "## Example\n",
    "\n",
    "Note: for some reason, you need to write BigFloat(epsilon) for it to work. I am unsure why. I am working on figuring this out."
   ]
  },
  {
   "cell_type": "markdown",
   "metadata": {},
   "source": [
    "Finding polynomial for $n=5$, $\\epsilon = 1/2$:"
   ]
  },
  {
   "cell_type": "code",
   "execution_count": 81,
   "metadata": {},
   "outputs": [
    {
     "data": {
      "text/html": [
       "2086080.0000000000000*t^5 + 2155756.0000000000000*t^4 + [595960.047619047619 +/- 1.89e-13]*t^3 + [18183.2460317460317 +/- 5.07e-14]*t^2 + [158.4900793650793651 +/- 6.14e-17]*t + [0.2519841269841269841 +/- 5.24e-20]"
      ],
      "text/latex": [
       "2086080.0000000000000 t^{5} + 2155756.0000000000000 t^{4} + [595960.047619047619 +/- 1.89e-13] t^{3} + [18183.2460317460317 +/- 5.07e-14] t^{2} + [158.4900793650793651 +/- 6.14e-17] t + [0.2519841269841269841 +/- 5.24e-20]"
      ],
      "text/plain": [
       "2086080.0000000000000*t^5 + 2155756.0000000000000*t^4 + [595960.047619047619 +/- 1.89e-13]*t^3 + [18183.2460317460317 +/- 5.07e-14]*t^2 + [158.4900793650793651 +/- 6.14e-17]*t + [0.2519841269841269841 +/- 5.24e-20]"
      ]
     },
     "metadata": {},
     "output_type": "display_data"
    }
   ],
   "source": [
    "f = find_Kurtz_example(BigFloat(1/2),5)"
   ]
  },
  {
   "cell_type": "markdown",
   "metadata": {},
   "source": [
    "Same polynomial but in $\\mathbb{C}[t]$ (so we can easily determine roots):"
   ]
  },
  {
   "cell_type": "code",
   "execution_count": 82,
   "metadata": {},
   "outputs": [
    {
     "data": {
      "text/html": [
       "2086080.0000000000000*z^5 + 2155756.0000000000000*z^4 + [595960.047619047619 +/- 1.89e-13]*z^3 + [18183.2460317460317 +/- 5.07e-14]*z^2 + [158.4900793650793651 +/- 6.14e-17]*z + [0.2519841269841269841 +/- 5.24e-20]"
      ],
      "text/latex": [
       "2086080.0000000000000 z^{5} + 2155756.0000000000000 z^{4} + [595960.047619047619 +/- 1.89e-13] z^{3} + [18183.2460317460317 +/- 5.07e-14] z^{2} + [158.4900793650793651 +/- 6.14e-17] z + [0.2519841269841269841 +/- 5.24e-20]"
      ],
      "text/plain": [
       "2086080.0000000000000*z^5 + 2155756.0000000000000*z^4 + [595960.047619047619 +/- 1.89e-13]*z^3 + [18183.2460317460317 +/- 5.07e-14]*z^2 + [158.4900793650793651 +/- 6.14e-17]*z + [0.2519841269841269841 +/- 5.24e-20]"
      ]
     },
     "metadata": {},
     "output_type": "display_data"
    }
   ],
   "source": [
    "# Vector of coefficients of f:\n",
    "coeffs = collect(coefficients(f))\n",
    "# Defining complex polynomial ring:\n",
    "CC = ComplexField()\n",
    "C, z = CC[:z]\n",
    "# Complex version of polynomial: (exact same polynomial, but changing base field)\n",
    "fC = C(coeffs)"
   ]
  },
  {
   "cell_type": "markdown",
   "metadata": {},
   "source": [
    "Finding (approximated) roots of the polynomial:"
   ]
  },
  {
   "cell_type": "code",
   "execution_count": 83,
   "metadata": {},
   "outputs": [
    {
     "data": {
      "text/plain": [
       "5-element Vector{ComplexFieldElem}:\n",
       " [-0.01886792 +/- 5.07e-9]\n",
       " [-0.012500000 +/- 3.77e-10]\n",
       " [-0.0020325203 +/- 3.92e-11]\n",
       " [-0.50000000 +/- 8.70e-9] + [-0.04454354 +/- 9.32e-9]*im\n",
       " [-0.50000000 +/- 8.64e-9] + [0.0445435 +/- 5.00e-8]*im"
      ]
     },
     "metadata": {},
     "output_type": "display_data"
    }
   ],
   "source": [
    "roots(fC)"
   ]
  },
  {
   "cell_type": "markdown",
   "metadata": {},
   "source": [
    "So our polynomial has some non-real roots as expected."
   ]
  },
  {
   "cell_type": "markdown",
   "metadata": {},
   "source": [
    "### Checking if we can remove the decimal parts"
   ]
  },
  {
   "cell_type": "markdown",
   "metadata": {},
   "source": [
    "Preliminary check with the new function:"
   ]
  },
  {
   "cell_type": "code",
   "execution_count": 84,
   "metadata": {},
   "outputs": [
    {
     "data": {
      "text/plain": [
       "(true, \"All conditions are satisfied.\")"
      ]
     },
     "metadata": {},
     "output_type": "display_data"
    }
   ],
   "source": [
    "check_conditions(f, BigFloat(1/2))"
   ]
  },
  {
   "cell_type": "markdown",
   "metadata": {},
   "source": [
    "Removing the error bounds/intervals:"
   ]
  },
  {
   "cell_type": "code",
   "execution_count": 85,
   "metadata": {},
   "outputs": [
    {
     "data": {
      "text/plain": [
       "(true, \"All conditions are satisfied.\")"
      ]
     },
     "metadata": {},
     "output_type": "display_data"
    }
   ],
   "source": [
    "g = 2086080*t^5 + 2155756*t^4 + 595960.047619047619*t^3 + 18183.2460317460317*t^2 + 158.4900793650793651*t + 0.2519841269841269841\n",
    "check_conditions(g, BigFloat(1/2))"
   ]
  },
  {
   "cell_type": "markdown",
   "metadata": {},
   "source": [
    "Rounding down (constant term rounded to 2 decimals and the rest to integers):"
   ]
  },
  {
   "cell_type": "code",
   "execution_count": 86,
   "metadata": {},
   "outputs": [
    {
     "name": "stdout",
     "output_type": "stream",
     "text": [
      "(true, \"All conditions are satisfied.\")"
     ]
    }
   ],
   "source": [
    "p = 2086080*t^5 + 2155756*t^4 + 595960*t^3 + 18183*t^2 + 158*t + 0.25\n",
    "print(check_conditions(p, BigFloat(1/2)))"
   ]
  },
  {
   "cell_type": "markdown",
   "metadata": {},
   "source": [
    "Polynomial multiplied by 4:"
   ]
  },
  {
   "cell_type": "code",
   "execution_count": 89,
   "metadata": {},
   "outputs": [
    {
     "name": "stdout",
     "output_type": "stream",
     "text": [
      "8344320.0000000000000*t^5 + 8623024.0000000000000*t^4 + 2383840.0000000000000*t^3 + 72732.000000000000000*t^2 + 632.00000000000000000*t + 1\n",
      "(true, \"All conditions are satisfied.\")"
     ]
    }
   ],
   "source": [
    "println(4*p)\n",
    "print(check_conditions(4*p,BigFloat(1/2)))"
   ]
  }
 ],
 "metadata": {
  "kernelspec": {
   "display_name": "Julia 1.9.4",
   "language": "julia",
   "name": "julia-1.9"
  },
  "language_info": {
   "file_extension": ".jl",
   "mimetype": "application/julia",
   "name": "julia",
   "version": "1.9.4"
  }
 },
 "nbformat": 4,
 "nbformat_minor": 2
}
